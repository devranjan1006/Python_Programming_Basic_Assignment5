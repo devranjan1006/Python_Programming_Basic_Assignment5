{
 "cells": [
  {
   "cell_type": "markdown",
   "metadata": {},
   "source": [
    "# Python Programming Assignment 5"
   ]
  },
  {
   "cell_type": "markdown",
   "metadata": {},
   "source": [
    "1.\tWrite a Python Program to Find LCM?\n"
   ]
  },
  {
   "cell_type": "code",
   "execution_count": 3,
   "metadata": {},
   "outputs": [
    {
     "name": "stdout",
     "output_type": "stream",
     "text": [
      " Please Enter the First Number: 15\n",
      " Please Enter the Second Number: 25\n",
      "\n",
      " LCM of 15 and 25 = 75\n"
     ]
    }
   ],
   "source": [
    "num1 = int(input(\" Please Enter the First Number: \"))\n",
    "num2 = int(input(\" Please Enter the Second Number: \"))\n",
    "\n",
    "if(num1 > num2):\n",
    "    maximum = num1\n",
    "else:\n",
    "    maximum = num2\n",
    "\n",
    "while(True):\n",
    "    if(maximum % num1 == 0 and maximum % num2 == 0):\n",
    "        print(\"LCM of {} and {} = {}\".format(num1, num2, maximum))\n",
    "        break;\n",
    "    maximum = maximum + 1"
   ]
  },
  {
   "cell_type": "markdown",
   "metadata": {},
   "source": [
    "2.\tWrite a Python Program to Find HCF?\n"
   ]
  },
  {
   "cell_type": "code",
   "execution_count": 6,
   "metadata": {},
   "outputs": [
    {
     "name": "stdout",
     "output_type": "stream",
     "text": [
      "Enter first number: 15\n",
      "Enter second number: 25\n",
      "HCF of 15 and 25 is 5\n"
     ]
    }
   ],
   "source": [
    "num1 = int(input('Enter first number: '))\n",
    "num2 = int(input('Enter second number: '))\n",
    "\n",
    "gcd = 1\n",
    "for i in range(1,num1+1):\n",
    "        if num1%i==0 and num2%i==0:\n",
    "           gcd = i\n",
    "        else:\n",
    "            pass\n",
    "    \n",
    "print('HCF of {} and {} is {}'.format(num1, num2, gcd))"
   ]
  },
  {
   "cell_type": "markdown",
   "metadata": {},
   "source": [
    "3.\tWrite a Python Program to Convert Decimal to Binary, Octal and Hexadecimal?\n"
   ]
  },
  {
   "cell_type": "code",
   "execution_count": 7,
   "metadata": {},
   "outputs": [
    {
     "name": "stdout",
     "output_type": "stream",
     "text": [
      "Enter a decimal number: 2\n",
      "In binary:  0b10\n",
      "In octal:  0o2\n",
      "In hexadecimal:  0x2\n"
     ]
    }
   ],
   "source": [
    "dec = int(input(\"Enter a decimal number: \"))  \n",
    "print(\"In binary:  {}\".format(bin(dec))) \n",
    "print(\"In octal:  {}\".format(oct(dec)))\n",
    "print(\"In hexadecimal:  {}\".format(hex(dec)))"
   ]
  },
  {
   "cell_type": "markdown",
   "metadata": {},
   "source": [
    "4.\tWrite a Python Program To Find ASCII value of a character?\n"
   ]
  },
  {
   "cell_type": "code",
   "execution_count": 15,
   "metadata": {},
   "outputs": [
    {
     "name": "stdout",
     "output_type": "stream",
     "text": [
      "Enter the character: m\n",
      "The ASCII value of 'm' is 109\n"
     ]
    }
   ],
   "source": [
    "char = input('Enter the character: ')\n",
    "print(\"The ASCII value of '\" + char + \"' is\", ord(char))"
   ]
  },
  {
   "cell_type": "markdown",
   "metadata": {},
   "source": [
    "5.\tWrite a Python Program to Make a Simple Calculator with 4 basic mathematical operations?\n"
   ]
  },
  {
   "cell_type": "code",
   "execution_count": 17,
   "metadata": {},
   "outputs": [
    {
     "name": "stdout",
     "output_type": "stream",
     "text": [
      "You can select from the following: \n",
      "1 for Addition\n",
      "2 for Subtraction\n",
      "3 for Multiplication\n",
      "4 for Division\n",
      "Enter Your choice: 6\n",
      "Invalid Input\n",
      "Enter Your choice: 4\n",
      "Enter first number: 4\n",
      "Enter second number: 2\n",
      "4 / 2 = 2.0\n"
     ]
    }
   ],
   "source": [
    "print(\"You can select from the following: \")\n",
    "print(\"1 for Addition\")\n",
    "print(\"2 for Subtraction\")\n",
    "print(\"3 for Multiplication\")\n",
    "print(\"4 for Division\")\n",
    "\n",
    "while True:\n",
    "    choice = input(\"Enter Your choice: \")\n",
    "\n",
    "    if choice in ('1', '2', '3', '4'):\n",
    "        num1 = int(input(\"Enter first number: \"))\n",
    "        num2 = int(input(\"Enter second number: \"))\n",
    "\n",
    "        if choice == '1':\n",
    "            print(num1, \"+\", num2, \"=\", (num1+ num2))\n",
    "\n",
    "        elif choice == '2':\n",
    "            print(num1, \"-\", num2, \"=\", (num1- num2))\n",
    "\n",
    "        elif choice == '3':\n",
    "            print(num1, \"*\", num2, \"=\", (num1 * num2))\n",
    "\n",
    "        elif choice == '4':\n",
    "            print(num1, \"/\", num2, \"=\", (num1 / num2))\n",
    "        break\n",
    "    else:\n",
    "        print(\"Invalid Input\")\n"
   ]
  }
 ],
 "metadata": {
  "kernelspec": {
   "display_name": "Python 3",
   "language": "python",
   "name": "python3"
  },
  "language_info": {
   "codemirror_mode": {
    "name": "ipython",
    "version": 3
   },
   "file_extension": ".py",
   "mimetype": "text/x-python",
   "name": "python",
   "nbconvert_exporter": "python",
   "pygments_lexer": "ipython3",
   "version": "3.8.5"
  }
 },
 "nbformat": 4,
 "nbformat_minor": 4
}
